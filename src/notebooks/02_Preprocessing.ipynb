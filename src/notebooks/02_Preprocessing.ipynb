{
 "cells": [
  {
   "cell_type": "markdown",
   "id": "authorized-fifteen",
   "metadata": {},
   "source": [
    "# SSLTelecom\n",
    "\n",
    "## Problema\n",
    "\n",
    "Te escribimos de la peluquería SSL, esta pandemia – entre otras cosas –, ha afectado a nuestro negocio, que a veces parece que está a punto de cerrar, para nuestro disgusto. Como no queremos rendirnos tan fácilmente, hemos pensado en abrir un nuevo negocio de **venta de teléfonos móviles** para ver si sacamos suficientes beneficios para mantener la pelu a flote.\n",
    "\n",
    "Supongo que a estas alturas, te estarás preguntando: ¿y yo qué pinto en el negocio? Pues la verdad, es que no sabemos muy bien qué precio ponerle a nuestros teléfonos móviles y no queremos quedar atrás de nuestros competidores. Es por eso que necesitamos la ayuda de un **orfebre Data Scientist** que nos ayude a estimar correctamente el rango de precio de un teléfono móvil (bajo/medio/alto) para nosotras podernos hacer una idea del precio final al que podemos venderlo y no perder dinero.\n",
    "\n",
    "Hemos adjuntado el fichero con los datos que tenemos disponibles actualmente. Si necesitas un diccionario con información relativa a los datos, háznoslo saber.\n",
    "\n",
    "## Datos\n",
    "\n",
    "- **Battery power**: indica la batería del móvil expresada en mAh\n",
    "- **Blue**: indica si el móvil tiene bluetooth (1) o no (0)\n",
    "- **Clock speed**: indica la rapidez de procesamiento\n",
    "- **Dual sim**: indica si el móvil soporta dos SIM (1) o no (0)\n",
    "- **Fc**: megapíxeles de la cámara frontal\n",
    "- **Four_g**: indica si el móvil tiene 4G (1) o no (0)\n",
    "- **Int_memory**: memoria interna expresada en Gb\n",
    "- **M_dep**: grosor del teléfono móvil\n",
    "- **Mobile_wt**: peso del teléfono móvil\n",
    "- **N_cores**: número de cores del procesador\n",
    "- **Pc**: megapíxeles de la cámara principal\n",
    "- **Px_height**: resolución de píxeles (altura)\n",
    "- **Px_width**: resolución de píxeles (ancho)\n",
    "- **Ram**: RAM del móvil expresada en MegaBytes\n",
    "- **Sc_h**: altura de la pantalla del móvil expresada en cm\n",
    "- **Sc_w**: ancho de la pantalla del móvil expresada en cm\n",
    "- **Talk time**: duración de la batería durante una conversación\n",
    "- **Three_g**: indica si el móvil tiene 3G (1) o no (0)\n",
    "- **Touch_screen**: indica si la pantalla del móvil es táctil (1) o no (0)\n",
    "- **WiFi**: indica si el móvil tiene WiFi (1) o no (0)\n",
    "- **Price-range**: indica si el móvil es de costo bajo (0), medio (1), alto (2) o muy alto (3)"
   ]
  },
  {
   "cell_type": "code",
   "execution_count": 1,
   "id": "weird-substitute",
   "metadata": {},
   "outputs": [],
   "source": [
    "import warnings\n",
    "warnings.filterwarnings('ignore')"
   ]
  },
  {
   "cell_type": "code",
   "execution_count": 25,
   "id": "sunrise-contemporary",
   "metadata": {},
   "outputs": [
    {
     "data": {
      "text/html": [
       "<div>\n",
       "<style scoped>\n",
       "    .dataframe tbody tr th:only-of-type {\n",
       "        vertical-align: middle;\n",
       "    }\n",
       "\n",
       "    .dataframe tbody tr th {\n",
       "        vertical-align: top;\n",
       "    }\n",
       "\n",
       "    .dataframe thead th {\n",
       "        text-align: right;\n",
       "    }\n",
       "</style>\n",
       "<table border=\"1\" class=\"dataframe\">\n",
       "  <thead>\n",
       "    <tr style=\"text-align: right;\">\n",
       "      <th></th>\n",
       "      <th>battery_power</th>\n",
       "      <th>blue</th>\n",
       "      <th>clock_speed</th>\n",
       "      <th>dual_sim</th>\n",
       "      <th>fc</th>\n",
       "      <th>four_g</th>\n",
       "      <th>int_memory</th>\n",
       "      <th>m_dep</th>\n",
       "      <th>mobile_wt</th>\n",
       "      <th>n_cores</th>\n",
       "      <th>...</th>\n",
       "      <th>px_height</th>\n",
       "      <th>px_width</th>\n",
       "      <th>ram</th>\n",
       "      <th>sc_h</th>\n",
       "      <th>sc_w</th>\n",
       "      <th>talk_time</th>\n",
       "      <th>three_g</th>\n",
       "      <th>touch_screen</th>\n",
       "      <th>wifi</th>\n",
       "      <th>price_range</th>\n",
       "    </tr>\n",
       "  </thead>\n",
       "  <tbody>\n",
       "    <tr>\n",
       "      <th>0</th>\n",
       "      <td>842</td>\n",
       "      <td>0</td>\n",
       "      <td>2.2</td>\n",
       "      <td>0</td>\n",
       "      <td>1</td>\n",
       "      <td>0</td>\n",
       "      <td>7</td>\n",
       "      <td>0.6</td>\n",
       "      <td>188</td>\n",
       "      <td>2</td>\n",
       "      <td>...</td>\n",
       "      <td>20</td>\n",
       "      <td>756</td>\n",
       "      <td>2549</td>\n",
       "      <td>9</td>\n",
       "      <td>7</td>\n",
       "      <td>19</td>\n",
       "      <td>0</td>\n",
       "      <td>0</td>\n",
       "      <td>1</td>\n",
       "      <td>1</td>\n",
       "    </tr>\n",
       "    <tr>\n",
       "      <th>1</th>\n",
       "      <td>1021</td>\n",
       "      <td>1</td>\n",
       "      <td>0.5</td>\n",
       "      <td>1</td>\n",
       "      <td>0</td>\n",
       "      <td>1</td>\n",
       "      <td>53</td>\n",
       "      <td>0.7</td>\n",
       "      <td>136</td>\n",
       "      <td>3</td>\n",
       "      <td>...</td>\n",
       "      <td>905</td>\n",
       "      <td>1988</td>\n",
       "      <td>2631</td>\n",
       "      <td>17</td>\n",
       "      <td>3</td>\n",
       "      <td>7</td>\n",
       "      <td>1</td>\n",
       "      <td>1</td>\n",
       "      <td>0</td>\n",
       "      <td>2</td>\n",
       "    </tr>\n",
       "    <tr>\n",
       "      <th>2</th>\n",
       "      <td>563</td>\n",
       "      <td>1</td>\n",
       "      <td>0.5</td>\n",
       "      <td>1</td>\n",
       "      <td>2</td>\n",
       "      <td>1</td>\n",
       "      <td>41</td>\n",
       "      <td>0.9</td>\n",
       "      <td>145</td>\n",
       "      <td>5</td>\n",
       "      <td>...</td>\n",
       "      <td>1263</td>\n",
       "      <td>1716</td>\n",
       "      <td>2603</td>\n",
       "      <td>11</td>\n",
       "      <td>2</td>\n",
       "      <td>9</td>\n",
       "      <td>1</td>\n",
       "      <td>1</td>\n",
       "      <td>0</td>\n",
       "      <td>2</td>\n",
       "    </tr>\n",
       "    <tr>\n",
       "      <th>3</th>\n",
       "      <td>615</td>\n",
       "      <td>1</td>\n",
       "      <td>2.5</td>\n",
       "      <td>0</td>\n",
       "      <td>0</td>\n",
       "      <td>0</td>\n",
       "      <td>10</td>\n",
       "      <td>0.8</td>\n",
       "      <td>131</td>\n",
       "      <td>6</td>\n",
       "      <td>...</td>\n",
       "      <td>1216</td>\n",
       "      <td>1786</td>\n",
       "      <td>2769</td>\n",
       "      <td>16</td>\n",
       "      <td>8</td>\n",
       "      <td>11</td>\n",
       "      <td>1</td>\n",
       "      <td>0</td>\n",
       "      <td>0</td>\n",
       "      <td>2</td>\n",
       "    </tr>\n",
       "    <tr>\n",
       "      <th>4</th>\n",
       "      <td>1821</td>\n",
       "      <td>1</td>\n",
       "      <td>1.2</td>\n",
       "      <td>0</td>\n",
       "      <td>13</td>\n",
       "      <td>1</td>\n",
       "      <td>44</td>\n",
       "      <td>0.6</td>\n",
       "      <td>141</td>\n",
       "      <td>2</td>\n",
       "      <td>...</td>\n",
       "      <td>1208</td>\n",
       "      <td>1212</td>\n",
       "      <td>1411</td>\n",
       "      <td>8</td>\n",
       "      <td>2</td>\n",
       "      <td>15</td>\n",
       "      <td>1</td>\n",
       "      <td>1</td>\n",
       "      <td>0</td>\n",
       "      <td>1</td>\n",
       "    </tr>\n",
       "  </tbody>\n",
       "</table>\n",
       "<p>5 rows × 21 columns</p>\n",
       "</div>"
      ],
      "text/plain": [
       "   battery_power  blue  clock_speed  dual_sim  fc  four_g  int_memory  m_dep  \\\n",
       "0            842     0          2.2         0   1       0           7    0.6   \n",
       "1           1021     1          0.5         1   0       1          53    0.7   \n",
       "2            563     1          0.5         1   2       1          41    0.9   \n",
       "3            615     1          2.5         0   0       0          10    0.8   \n",
       "4           1821     1          1.2         0  13       1          44    0.6   \n",
       "\n",
       "   mobile_wt  n_cores  ...  px_height  px_width   ram  sc_h  sc_w  talk_time  \\\n",
       "0        188        2  ...         20       756  2549     9     7         19   \n",
       "1        136        3  ...        905      1988  2631    17     3          7   \n",
       "2        145        5  ...       1263      1716  2603    11     2          9   \n",
       "3        131        6  ...       1216      1786  2769    16     8         11   \n",
       "4        141        2  ...       1208      1212  1411     8     2         15   \n",
       "\n",
       "   three_g  touch_screen  wifi  price_range  \n",
       "0        0             0     1            1  \n",
       "1        1             1     0            2  \n",
       "2        1             1     0            2  \n",
       "3        1             0     0            2  \n",
       "4        1             1     0            1  \n",
       "\n",
       "[5 rows x 21 columns]"
      ]
     },
     "execution_count": 25,
     "metadata": {},
     "output_type": "execute_result"
    }
   ],
   "source": [
    "import pandas as pd\n",
    "\n",
    "DATA_FILEPATH = '../data/mobile_phone_info.csv'\n",
    "df = pd.read_csv(DATA_FILEPATH)\n",
    "df.head()"
   ]
  },
  {
   "cell_type": "markdown",
   "id": "together-character",
   "metadata": {},
   "source": [
    "## Modificando variables\n",
    "\n",
    "Como vimos en el análisis exploratorio, las variables `px_height` y `sc_w` tienen valores que no son válidos. En ambos casos, estamos hablando de variables de tamaños. Vamos a calcular la ratio entre el ancho y el alto y vamos a aplicarla a la otra variable de tamaño para calcular el nuevo valor.\n",
    "\n",
    "Calculamos la moda del ratio de la resolución de pantalla."
   ]
  },
  {
   "cell_type": "code",
   "execution_count": 26,
   "id": "labeled-wrong",
   "metadata": {},
   "outputs": [
    {
     "name": "stdout",
     "output_type": "stream",
     "text": [
      "Moda de px_ration 1.1714285714285715\n"
     ]
    }
   ],
   "source": [
    "valid_px_height = df[df['px_height'] >= 500]\n",
    "px_ration = valid_px_height['px_width'] / valid_px_height['px_height']\n",
    "px_ration_mode = px_ration.mode()[0]\n",
    "print(f\"Moda de px_ration\", px_ration_mode)"
   ]
  },
  {
   "cell_type": "markdown",
   "id": "flush-refund",
   "metadata": {},
   "source": [
    "Calculamos la moda del ratio del tamaño de pantalla."
   ]
  },
  {
   "cell_type": "code",
   "execution_count": 27,
   "id": "generous-minnesota",
   "metadata": {},
   "outputs": [
    {
     "name": "stdout",
     "output_type": "stream",
     "text": [
      "Moda de sc_ration 0.5\n"
     ]
    }
   ],
   "source": [
    "valid_sc_w = df[df['sc_w'] >= 3]\n",
    "sc_ration = valid_sc_w['sc_w'] / valid_sc_w['sc_h']\n",
    "sc_ration_mode = sc_ration.mode()[0]\n",
    "print(f\"Moda de sc_ration\", sc_ration_mode)"
   ]
  },
  {
   "cell_type": "markdown",
   "id": "suspended-medicare",
   "metadata": {},
   "source": [
    "### Creamos los Transformers\n",
    "\n",
    "Lo primero es crear unos Transformers para eliminar los valores inválidos de la resolución y tamaño de pantalla. Para ello creamos el `ReplacePxRatio` y `ReplaceScRatio`."
   ]
  },
  {
   "cell_type": "code",
   "execution_count": 28,
   "id": "devoted-ceremony",
   "metadata": {},
   "outputs": [],
   "source": [
    "import numpy as np\n",
    "from sklearn.base import BaseEstimator, TransformerMixin\n",
    "\n",
    "class ReplacePxRatio(BaseEstimator, TransformerMixin):\n",
    "    def __init__(self, min_height_valid):\n",
    "        self.min_height_valid = min_height_valid\n",
    "    def fit(self, X, y=None):\n",
    "        valid_px_height = X[X['px_height'] >= self.min_height_valid]\n",
    "        px_ration = valid_px_height['px_width'] / valid_px_height['px_height']\n",
    "        self.px_ration_mode = px_ration.mode()[0]\n",
    "        return self\n",
    "    def transform(self, X):\n",
    "        new_df = X.copy()\n",
    "        new_df['px_height'] = np.where(X['px_height'] >= self.min_height_valid, X['px_height'], X['px_width'] * self.px_ration_mode)\n",
    "        return new_df\n",
    "    \n",
    "class ReplaceScRatio(BaseEstimator, TransformerMixin):\n",
    "    def __init__(self, min_width_valid):\n",
    "        self.min_width_valid = min_width_valid\n",
    "    def fit(self, X, y=None):\n",
    "        valid_sc_width = X[X['sc_w'] >= self.min_width_valid]\n",
    "        sc_ration = valid_sc_width['sc_w'] / valid_sc_width['sc_h']\n",
    "        self.sc_ration_mode = sc_ration.mode()[0]\n",
    "        return self\n",
    "    def transform(self, X):\n",
    "        new_df = X.copy()\n",
    "        new_df['sc_w'] = np.where(X['sc_w'] >= self.min_width_valid, X['sc_w'], X['sc_h'] * self.sc_ration_mode)\n",
    "        return new_df"
   ]
  },
  {
   "cell_type": "code",
   "execution_count": 29,
   "id": "interpreted-effects",
   "metadata": {},
   "outputs": [],
   "source": [
    "class DummyTransformer(BaseEstimator, TransformerMixin):\n",
    "    def __init__(self):\n",
    "        pass\n",
    "    def fit(self, X, y=None):\n",
    "        return self\n",
    "    def transform(self, X):\n",
    "        return X"
   ]
  },
  {
   "cell_type": "markdown",
   "id": "opening-affiliate",
   "metadata": {},
   "source": [
    "## Pipelines\n",
    "\n",
    "Vamos a crear un Pipeline para trabajar sobre las variables numéricas y otro para trabajar con las variables categóricas.\n",
    "\n",
    "A continuación, los uniremos para crear el Pipeline completo."
   ]
  },
  {
   "cell_type": "code",
   "execution_count": 30,
   "id": "corrected-optimization",
   "metadata": {},
   "outputs": [],
   "source": [
    "from sklearn.pipeline import Pipeline\n",
    "from sklearn.preprocessing import StandardScaler\n",
    "\n",
    "num_pipeline = Pipeline([\n",
    "        ('replace_px_ratio', ReplacePxRatio(500)),\n",
    "        ('replace_sc_ratio', ReplaceScRatio(2)),\n",
    "        ('std_scaler', StandardScaler())\n",
    "    ])"
   ]
  },
  {
   "cell_type": "code",
   "execution_count": 31,
   "id": "adequate-conditioning",
   "metadata": {},
   "outputs": [],
   "source": [
    "from sklearn.compose import ColumnTransformer\n",
    "\n",
    "num_attribs = ['battery_power','clock_speed', 'fc', 'int_memory', 'm_dep', 'mobile_wt',\n",
    " 'n_cores', 'pc', 'px_height', 'px_width', 'ram', 'sc_h', 'sc_w','talk_time']\n",
    "cat_attribs = ['blue', 'dual_sim', 'four_g', 'three_g', 'touch_screen', 'wifi']\n",
    "\n",
    "full_pipeline = ColumnTransformer([\n",
    "        (\"num\", num_pipeline, num_attribs),\n",
    "        (\"cat\", DummyTransformer(), cat_attribs),\n",
    "    ])"
   ]
  },
  {
   "cell_type": "markdown",
   "id": "dressed-wilson",
   "metadata": {},
   "source": [
    "## Entrenamiento\n",
    "\n",
    "Primero vamos a hacer el split entre el entrenamiento y la validación."
   ]
  },
  {
   "cell_type": "code",
   "execution_count": 32,
   "id": "athletic-purpose",
   "metadata": {},
   "outputs": [],
   "source": [
    "from sklearn.model_selection import train_test_split\n",
    "\n",
    "y = df['price_range']\n",
    "X = df.drop(['price_range'], axis=1)\n",
    "\n",
    "X_train, X_test, y_train, y_test = train_test_split(X, y, test_size=0.25)"
   ]
  },
  {
   "cell_type": "markdown",
   "id": "popular-arrest",
   "metadata": {},
   "source": [
    "Vamos a preparar nuestros datos de entrenamiento y test con el Pipeline que hemos creado anteriormente."
   ]
  },
  {
   "cell_type": "code",
   "execution_count": 40,
   "id": "refined-product",
   "metadata": {},
   "outputs": [],
   "source": [
    "X_train_prepared = full_pipeline.fit_transform(X_train)\n",
    "X_test_prepared = full_pipeline.fit_transform(X_test)"
   ]
  },
  {
   "cell_type": "markdown",
   "id": "remarkable-christopher",
   "metadata": {},
   "source": [
    "### DecisionTreeClassifier"
   ]
  },
  {
   "cell_type": "code",
   "execution_count": 63,
   "id": "deluxe-karen",
   "metadata": {},
   "outputs": [
    {
     "data": {
      "text/plain": [
       "DecisionTreeClassifier(random_state=0)"
      ]
     },
     "execution_count": 63,
     "metadata": {},
     "output_type": "execute_result"
    }
   ],
   "source": [
    "from sklearn.datasets import load_iris\n",
    "from sklearn.model_selection import cross_val_score\n",
    "from sklearn.tree import DecisionTreeClassifier\n",
    "\n",
    "clf = DecisionTreeClassifier(random_state=0)\n",
    "clf.fit(X_train_prepared, y_train)"
   ]
  },
  {
   "cell_type": "markdown",
   "id": "overall-queens",
   "metadata": {},
   "source": [
    "Ahora vamos a evaluar el modelo y a calcular las métricas."
   ]
  },
  {
   "cell_type": "code",
   "execution_count": 64,
   "id": "technical-tokyo",
   "metadata": {},
   "outputs": [
    {
     "name": "stdout",
     "output_type": "stream",
     "text": [
      "Recall: 0.7914596830202553\n",
      "Accuracy: 0.786\n",
      "F1 Score: 0.7853787027755662\n"
     ]
    },
    {
     "data": {
      "image/png": "[encoded data removed]",
      "text/plain": [
       "<Figure size 432x288 with 2 Axes>"
      ]
     },
     "metadata": {
      "needs_background": "light"
     },
     "output_type": "display_data"
    }
   ],
   "source": [
    "from sklearn.metrics import recall_score, accuracy_score, f1_score, plot_confusion_matrix\n",
    "import matplotlib.pyplot as plt\n",
    "\n",
    "y_predicted = clf.predict(X_test_prepared)\n",
    "\n",
    "print(\"Recall:\", recall_score(y_test, y_predicted, average='macro'))\n",
    "print(\"Accuracy:\", accuracy_score(y_test, y_predicted))\n",
    "print(\"F1 Score:\", f1_score(y_test, y_predicted, average='macro'))\n",
    "\n",
    "plot_confusion_matrix(clf, X_test_prepared, y_test)  \n",
    "plt.show() "
   ]
  },
  {
   "cell_type": "code",
   "execution_count": null,
   "id": "perceived-sending",
   "metadata": {},
   "outputs": [],
   "source": []
  }
 ],
 "metadata": {
  "kernelspec": {
   "display_name": "Python (telecom)",
   "language": "python",
   "name": "telecom"
  },
  "language_info": {
   "codemirror_mode": {
    "name": "ipython",
    "version": 3
   },
   "file_extension": ".py",
   "mimetype": "text/x-python",
   "name": "python",
   "nbconvert_exporter": "python",
   "pygments_lexer": "ipython3",
   "version": "3.6.8"
  }
 },
 "nbformat": 4,
 "nbformat_minor": 5
}
